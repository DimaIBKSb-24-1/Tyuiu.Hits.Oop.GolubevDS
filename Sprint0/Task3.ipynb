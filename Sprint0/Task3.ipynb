{
 "cells": [
  {
   "cell_type": "markdown",
   "metadata": {},
   "source": [
    "<h1 style=\"color:DodgerBlue\">Индивидальный проект</h1>"
   ]
  },
  {
   "cell_type": "markdown",
   "metadata": {},
   "source": [
    "<h2 style=\"color:DodgerBlue\">Название проекта:</h2>\n",
    "\n",
    "----\n",
    "\n",
    "### Вариант задания №8\n"
   ]
  },
  {
   "cell_type": "markdown",
   "metadata": {},
   "source": [
    "<h2 style=\"color:DodgerBlue\">Описание проекта:</h2>\n",
    "\n",
    "----\n",
    "\n",
    "Создать базовый класс CreditCard в C#, который будет представлять информацию\n",
    "о кредитных картах. На основе этого класса разработать 2-3 производных класса,\n",
    "демонстрирующих принципы наследования и полиморфизма. В каждом из классов\n",
    "должны быть реализованы новые атрибуты и методы, а также переопределены\n",
    "некоторые методы базового класса для демонстрации полиморфизма.\n"
   ]
  },
  {
   "cell_type": "markdown",
   "metadata": {},
   "source": [
    "<h2 style=\"color:DodgerBlue\">Реализация:</h2>\n",
    "\n",
    "----"
   ]
  },
  {
   "cell_type": "code",
   "execution_count": null,
   "metadata": {
    "dotnet_interactive": {
     "language": "csharp"
    },
    "polyglot_notebook": {
     "kernelName": "csharp"
    }
   },
   "outputs": [
    {
     "name": "stdout",
     "output_type": "stream",
     "text": [
      "Карта: 1111 2222 3333 4444, Владелец: Иван Иванов, Действует до: 06.09.2027\n",
      "Оплата с Gold карты. Начислены бонусные мили.\n",
      "Карта: 5555 6666 7777 8888, Владелец: Мария Смирнова, Действует до: 06.09.2028\n",
      "Проверка баланса через ассистента: Анна\n",
      "Карта: 9999 0000 1111 2222, Владелец: ООО Техно, Действует до: 06.09.2026, Компания: TechCorp\n"
     ]
    }
   ],
   "source": [
    "// Базовый класс, описывающий общую структуру кредитной карты\n",
    "public class CreditCard\n",
    "{\n",
    "    // Номер карты\n",
    "    public string CardNumber { get; set; }\n",
    "\n",
    "    // Имя владельца карты\n",
    "    public string HolderName { get; set; }\n",
    "\n",
    "    // Срок действия карты\n",
    "    public DateTime ExpiryDate { get; set; }\n",
    "\n",
    "    // Метод для получения общей информации о карте\n",
    "    public virtual string GetInfo()\n",
    "    {\n",
    "        return $\"Карта: {CardNumber}, Владелец: {HolderName}, Действует до: {ExpiryDate.ToShortDateString()}\";\n",
    "    }\n",
    "\n",
    "    // Метод оплаты покупки\n",
    "    public virtual void Pay()\n",
    "    {\n",
    "        Console.WriteLine(\"Оплата произведена с кредитной карты.\");\n",
    "    }\n",
    "\n",
    "    // Метод проверки баланса \n",
    "    public virtual void CheckBalance()\n",
    "    {\n",
    "        Console.WriteLine(\"Проверка баланса на кредитной карте.\");\n",
    "    }\n",
    "}\n",
    "// Класс-наследник: Gold карта\n",
    "public class GoldCreditCard : CreditCard\n",
    "{\n",
    "    // Дополнительное поле: бонусные мили\n",
    "    public int BonusMiles { get; set; }\n",
    "\n",
    "    // Переопределение метода оплаты с начислением миль\n",
    "    public override void Pay()\n",
    "    {\n",
    "        Console.WriteLine(\"Оплата с Gold карты. Начислены бонусные мили.\");\n",
    "    }\n",
    "}\n",
    "// Класс-наследник: Premium карта\n",
    "public class PremiumCreditCard : CreditCard\n",
    "{\n",
    "    // Доп. свойство: личный ассистент\n",
    "    public string SupportAssistant { get; set; }\n",
    "\n",
    "    // Переопределение метода проверки баланса\n",
    "    public override void CheckBalance()\n",
    "    {\n",
    "        Console.WriteLine($\"Проверка баланса через ассистента: {SupportAssistant}\");\n",
    "    }\n",
    "}\n",
    "// Класс-наследник: корпоративная карта\n",
    "public class CorporateCreditCard : CreditCard\n",
    "{\n",
    "    // Доп. атрибут: название компании\n",
    "    public string Company { get; set; }\n",
    "\n",
    "    // Переопределение метода для включения названия компании\n",
    "    public override string GetInfo()\n",
    "    {\n",
    "        return base.GetInfo() + $\", Компания: {Company}\";\n",
    "    }\n",
    "}\n",
    "var gold = new GoldCreditCard\n",
    "{\n",
    "    CardNumber = \"1111 2222 3333 4444\",\n",
    "    HolderName = \"Иван Иванов\",\n",
    "    ExpiryDate = DateTime.Now.AddYears(2),\n",
    "    BonusMiles = 1500\n",
    "};\n",
    "\n",
    "var premium = new PremiumCreditCard\n",
    "{\n",
    "    CardNumber = \"5555 6666 7777 8888\",\n",
    "    HolderName = \"Мария Смирнова\",\n",
    "    ExpiryDate = DateTime.Now.AddYears(3),\n",
    "    SupportAssistant = \"Анна\"\n",
    "};\n",
    "\n",
    "var corp = new CorporateCreditCard\n",
    "{\n",
    "    CardNumber = \"9999 0000 1111 2222\",\n",
    "    HolderName = \"ООО Техно\",\n",
    "    ExpiryDate = DateTime.Now.AddYears(1),\n",
    "    Company = \"TechCorp\"\n",
    "};\n",
    "\n",
    "// Демонстрация полиморфного поведения\n",
    "Console.WriteLine(gold.GetInfo());\n",
    "gold.Pay();\n",
    "\n",
    "Console.WriteLine(premium.GetInfo());\n",
    "premium.CheckBalance();\n",
    "\n",
    "Console.WriteLine(corp.GetInfo());\n",
    "\n"
   ]
  }
 ],
 "metadata": {
  "kernelspec": {
   "display_name": ".NET (C#)",
   "language": "C#",
   "name": ".net-csharp"
  },
  "polyglot_notebook": {
   "kernelInfo": {
    "defaultKernelName": "csharp",
    "items": [
     {
      "aliases": [],
      "languageName": "csharp",
      "name": "csharp"
     }
    ]
   }
  }
 },
 "nbformat": 4,
 "nbformat_minor": 2
}
