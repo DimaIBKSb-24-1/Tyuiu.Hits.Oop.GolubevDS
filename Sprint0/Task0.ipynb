{
 "cells": [
  {
   "cell_type": "markdown",
   "id": "a7a6e1e7",
   "metadata": {},
   "source": [
    "Первая программа в Polyglot Notebooks\n",
    "Polyglot Notebooks — это расширение для Visual Studio Code, которое позволяет использовать различные языки программирования в одном блокноте с полной поддержкой языковых серверов.\n",
    "\n",
    "Оно также позволяет пользователям делиться переменными между языками, обеспечивая непрерывный рабочий процесс. Это позволяет избежать переключения между разными инструментами и ручной передачи данных, что может прерывать рабочий процесс.\n",
    "\n",
    "Polyglot Notebooks — это инструмент от Microsoft, который сочетает Markdown и код. Он позволяет использовать несколько языков в одном блокноте.\n",
    "\n",
    "Polyglot Notebooks позволяют пользователям:\n",
    "\n",
    "обогащать код документацией (в формате Markdown);\n",
    "выводить результаты и визуализировать их;\n",
    "выполнять блоки кода по отдельности и даже объединять их.\n",
    "В отличие от Jupyter Notebooks, которые часто используются для Python, Polyglot Notebooks предназначены для работы с несколькими языками в одном блокноте.\n",
    "\n",
    "Polyglot Notebooks поддерживают следующие языки:\n",
    "\n",
    "C#\n",
    "F#\n",
    "PowerShell\n",
    "JavaScript\n",
    "HTML\n",
    "Mermaid\n",
    "SQL\n",
    "KQL (Kusto Query Language)\n",
    "Markdown — облегчённый язык разметки, созданный с целью обозначения форматирования в простом тексте, с максимальным сохранением его читаемости человеком, и пригодный для машинного преобразования в языки для продвинутых публикаций (HTML, Rich Text и других).\n",
    "\n",
    "Markdown поддерживает использование прямого HTML внутри документа, так что вы можете использовать любые HTML-теги для более сложного оформления.\n",
    "\n",
    "Создавайте расширенное форматирование текста и кода с помощью простого синтаксиса Markdown.\n",
    "\n",
    "Смотрите подробнее: https://docs.github.com/ru/get-started/writing-on-github/getting-started-with-writing-and-formatting-on-github/basic-writing-and-formatting-syntax\n",
    "\n",
    "Пример кода на языке C#\n",
    "string Name = \"Игорь\";\n",
    "int Age = 45;\n",
    "Console.WriteLine($\"Здраствуйте {Name}. Вам {Age} лет!\");\n",
    "Console.WriteLine(\"Добро пожаловать в C#\");\n",
    "Особенности работы в Polyglot Notebooks:\n",
    "НЕЛЬЗЯ ИСПОЛЬЗОВАТЬ МЕТОД\n",
    "\n",
    "Console.ReadLine() \n",
    "Этот код не будет работать в Polyglot Notebooks\n",
    "Console.Write(\"Введите ваше имя: \");\n",
    "string name = Console.ReadLine();\n",
    "Console.WriteLine($\"Привет, {name}!\");\n",
    "ВЫХОД:\n",
    "\n",
    "Использовать статический способ присвоения значений переменным\n",
    "Запрашивать данные из файла\n"
   ]
  },
  {
   "cell_type": "markdown",
   "id": "f0b9f429",
   "metadata": {},
   "source": [
    "Задание:\n",
    "Ниже в блоке (Code) решите задачу\n",
    "Дан целочисленный массив numbers со следующими элементами { 5, 8, 1, 3, 9, 6, 7, 2 }, нужно выполнить следующие операции:\n",
    "\n",
    "Найти минимальное и максимальное значения в массиве.\n",
    "Найти сумму всех элементов массива.\n",
    "Найти среднее арифметическое всех элементов массива.\n",
    "Отсортировать массив в порядке возрастания.\n",
    "Проверить, содержит ли массив определенное число.\n",
    " \n"
   ]
  },
  {
   "cell_type": "code",
   "execution_count": 13,
   "metadata": {
    "language_info": {
     "name": "polyglot-notebook"
    },
    "polyglot_notebook": {
     "kernelName": "csharp"
    }
   },
   "outputs": [
    {
     "name": "stdout",
     "output_type": "stream",
     "text": [
      "Исходный массив: 5, 8, 1, 3, 9, 6, 7, 2\r\n"
     ]
    }
   ],
   "source": [
    "// Исходный массив\n",
    "int[] numbers = { 5, 8, 1, 3, 9, 6, 7, 2 };\n",
    "Console.WriteLine(\"Исходный массив: \" + string.Join(\", \", numbers));"
   ]
  },
  {
   "cell_type": "code",
   "execution_count": 14,
   "metadata": {
    "language_info": {
     "name": "polyglot-notebook"
    },
    "polyglot_notebook": {
     "kernelName": "csharp"
    }
   },
   "outputs": [
    {
     "name": "stdout",
     "output_type": "stream",
     "text": [
      "Минимальное значение: 1\n",
      "Максимальное значение: 9\n"
     ]
    }
   ],
   "source": [
    "// 1. Найти минимальное и максимальное значение\n",
    "int min = numbers.Min();\n",
    "int max = numbers.Max();\n",
    "Console.WriteLine($\"Минимальное значение: {min}\");\n",
    "Console.WriteLine($\"Максимальное значение: {max}\");"
   ]
  },
  {
   "cell_type": "code",
   "execution_count": 15,
   "metadata": {
    "language_info": {
     "name": "polyglot-notebook"
    },
    "polyglot_notebook": {
     "kernelName": "csharp"
    }
   },
   "outputs": [
    {
     "name": "stdout",
     "output_type": "stream",
     "text": [
      "Сумма всех элементов: 41\r\n"
     ]
    }
   ],
   "source": [
    "// 2. Найти сумму всех элементов массива\n",
    "int sum = numbers.Sum();\n",
    "Console.WriteLine($\"Сумма всех элементов: {sum}\");"
   ]
  },
  {
   "cell_type": "code",
   "execution_count": 16,
   "metadata": {
    "language_info": {
     "name": "polyglot-notebook"
    },
    "polyglot_notebook": {
     "kernelName": "csharp"
    }
   },
   "outputs": [
    {
     "name": "stdout",
     "output_type": "stream",
     "text": [
      "Среднее арифметическое: 5,12\r\n"
     ]
    }
   ],
   "source": [
    "// 3. Найти среднее арифметическое\n",
    "double average = numbers.Average();\n",
    "Console.WriteLine($\"Среднее арифметическое: {average:F2}\"); // F2 - округление до 2 знаков"
   ]
  },
  {
   "cell_type": "code",
   "execution_count": 17,
   "metadata": {
    "language_info": {
     "name": "polyglot-notebook"
    },
    "polyglot_notebook": {
     "kernelName": "csharp"
    }
   },
   "outputs": [
    {
     "name": "stdout",
     "output_type": "stream",
     "text": [
      "Отсортированный массив: 1, 2, 3, 5, 6, 7, 8, 9\r\n"
     ]
    }
   ],
   "source": [
    "// 4. Отсортировать массив в порядке возрастания\n",
    "Array.Sort(numbers);\n",
    "Console.WriteLine(\"Отсортированный массив: \" + string.Join(\", \", numbers));"
   ]
  },
  {
   "cell_type": "code",
   "execution_count": 18,
   "metadata": {
    "language_info": {
     "name": "polyglot-notebook"
    },
    "polyglot_notebook": {
     "kernelName": "csharp"
    }
   },
   "outputs": [
    {
     "name": "stdout",
     "output_type": "stream",
     "text": [
      "Массив содержит число 6: True\r\n"
     ]
    }
   ],
   "source": [
    "// 5. Проверить, содержит ли массив определенное число (например, число 6)\n",
    "int numberToFind = 6;\n",
    "bool containsNumber = numbers.Contains(numberToFind);\n",
    "Console.WriteLine($\"Массив содержит число {numberToFind}: {containsNumber}\");"
   ]
  },
  {
   "cell_type": "code",
   "execution_count": 19,
   "metadata": {
    "language_info": {
     "name": "polyglot-notebook"
    },
    "polyglot_notebook": {
     "kernelName": "csharp"
    }
   },
   "outputs": [
    {
     "name": "stdout",
     "output_type": "stream",
     "text": [
      "Массив содержит число 10: False\r\n"
     ]
    }
   ],
   "source": [
    "// Проверить другое число (например, число 10)\n",
    "int anotherNumberToFind = 10;\n",
    "bool containsAnotherNumber = numbers.Contains(anotherNumberToFind);\n",
    "Console.WriteLine($\"Массив содержит число {anotherNumberToFind}: {containsAnotherNumber}\");"
   ]
  }
 ],
 "metadata": {
  "kernelspec": {
   "display_name": ".NET (C#)",
   "language": "C#",
   "name": ".net-csharp"
  },
  "language_info": {
   "name": "polyglot-notebook"
  },
  "polyglot_notebook": {
   "kernelInfo": {
    "defaultKernelName": "csharp",
    "items": [
     {
      "aliases": [],
      "languageName": "csharp",
      "name": "csharp"
     }
    ]
   }
  }
 },
 "nbformat": 4,
 "nbformat_minor": 5
}
