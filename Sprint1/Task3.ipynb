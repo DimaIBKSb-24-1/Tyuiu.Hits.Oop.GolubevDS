{
 "cells": [
  {
   "cell_type": "markdown",
   "metadata": {},
   "source": [
    "<h1 style=\"color:DodgerBlue\">Индивидальный проект</h1>"
   ]
  },
  {
   "cell_type": "markdown",
   "metadata": {},
   "source": [
    "<h2 style=\"color:DodgerBlue\">Название проекта:</h2>\n",
    "\n",
    "----\n",
    "\n",
    "### Вариант задания \n"
   ]
  },
  {
   "cell_type": "markdown",
   "metadata": {},
   "source": [
    "<h2 style=\"color:DodgerBlue\">Описание проекта:</h2>\n",
    "\n",
    "----\n",
    "\n",
    "[ваш текст]\n",
    "\n",
    "#### Дополнительное задание\n",
    "Добавьте к сущестующим классам конструктора классов с использованием гетторов и сетторов и реализуйте взаимодействие объектов между собой"
   ]
  },
  {
   "cell_type": "markdown",
   "metadata": {},
   "source": [
    "<h2 style=\"color:DodgerBlue\">Реализация:</h2>\n",
    "\n",
    "----"
   ]
  },
  {
   "cell_type": "code",
   "execution_count": 3,
   "metadata": {
    "dotnet_interactive": {
     "language": "csharp"
    },
    "polyglot_notebook": {
     "kernelName": "csharp"
    }
   },
   "outputs": [
    {
     "name": "stdout",
     "output_type": "stream",
     "text": [
      "Карта: 1111 2222 3333 4444, Владелец: Иван Иванов, Действует до: 21.09.2027\n",
      "Карта: 5555 6666 7777 8888, Владелец: Мария Смирнова, Действует до: 21.09.2028\n",
      "Карта: 9999 0000 1111 2222, Владелец: ООО Техно, Действует до: 21.09.2026, Компания: TechCorp\n",
      "Оплата с Gold карты. Начислены 100 миль. Всего миль: 1600\n",
      "Оплата произведена с кредитной карты.\n",
      "Ассистент Анна получил сообщение: Произведена оплата с корпоративной карты TechCorp.\n",
      "500 миль передано от Иван Иванов к Сергей Петров.\n",
      "\n",
      "Мили Иван Иванов: 1100\n",
      "Мили Сергей Петров: 800\n"
     ]
    }
   ],
   "source": [
    "public class CreditCard\n",
    "{\n",
    "    public string CardNumber { get; set; }\n",
    "    public string HolderName { get; set; }\n",
    "    public DateTime ExpiryDate { get; set; }\n",
    "\n",
    "    // Конструктор базового класса\n",
    "    public CreditCard(string cardNumber, string holderName, DateTime expiryDate)\n",
    "    {\n",
    "        CardNumber = cardNumber;\n",
    "        HolderName = holderName;\n",
    "        ExpiryDate = expiryDate;\n",
    "    }\n",
    "\n",
    "    public virtual string GetInfo()\n",
    "    {\n",
    "        return $\"Карта: {CardNumber}, Владелец: {HolderName}, Действует до: {ExpiryDate.ToShortDateString()}\";\n",
    "    }\n",
    "\n",
    "    public virtual void Pay()\n",
    "    {\n",
    "        Console.WriteLine(\"Оплата произведена с кредитной карты.\");\n",
    "    }\n",
    "\n",
    "    public virtual void CheckBalance()\n",
    "    {\n",
    "        Console.WriteLine(\"Проверка баланса на кредитной карте.\");\n",
    "    }\n",
    "}\n",
    "\n",
    "// Класс-наследник: Gold карта\n",
    "public class GoldCreditCard : CreditCard\n",
    "{\n",
    "    public int BonusMiles { get; set; }\n",
    "\n",
    "    public GoldCreditCard(string cardNumber, string holderName, DateTime expiryDate, int bonusMiles)\n",
    "        : base(cardNumber, holderName, expiryDate)\n",
    "    {\n",
    "        BonusMiles = bonusMiles;\n",
    "    }\n",
    "\n",
    "    public override void Pay()\n",
    "    {\n",
    "        BonusMiles += 100; // Начисляем мили\n",
    "        Console.WriteLine($\"Оплата с Gold карты. Начислены 100 миль. Всего миль: {BonusMiles}\");\n",
    "    }\n",
    "\n",
    "    // Метод передачи миль другой карте\n",
    "    public void TransferMilesTo(GoldCreditCard otherCard, int miles)\n",
    "    {\n",
    "        if (BonusMiles >= miles)\n",
    "        {\n",
    "            BonusMiles -= miles;\n",
    "            otherCard.BonusMiles += miles;\n",
    "            Console.WriteLine($\"{miles} миль передано от {HolderName} к {otherCard.HolderName}.\");\n",
    "        }\n",
    "        else\n",
    "        {\n",
    "            Console.WriteLine(\"Недостаточно миль для передачи.\");\n",
    "        }\n",
    "    }\n",
    "}\n",
    "\n",
    "// Класс-наследник: Premium карта\n",
    "public class PremiumCreditCard : CreditCard\n",
    "{\n",
    "    public string SupportAssistant { get; set; }\n",
    "\n",
    "    public PremiumCreditCard(string cardNumber, string holderName, DateTime expiryDate, string assistant)\n",
    "        : base(cardNumber, holderName, expiryDate)\n",
    "    {\n",
    "        SupportAssistant = assistant;\n",
    "    }\n",
    "\n",
    "    public override void CheckBalance()\n",
    "    {\n",
    "        Console.WriteLine($\"Проверка баланса через ассистента: {SupportAssistant}\");\n",
    "    }\n",
    "\n",
    "    // Метод для уведомления ассистента\n",
    "    public void NotifyAssistant(string message)\n",
    "    {\n",
    "        Console.WriteLine($\"Ассистент {SupportAssistant} получил сообщение: {message}\");\n",
    "    }\n",
    "}\n",
    "\n",
    "// Класс-наследник: корпоративная карта\n",
    "public class CorporateCreditCard : CreditCard\n",
    "{\n",
    "    public string Company { get; set; }\n",
    "\n",
    "    public CorporateCreditCard(string cardNumber, string holderName, DateTime expiryDate, string company)\n",
    "        : base(cardNumber, holderName, expiryDate)\n",
    "    {\n",
    "        Company = company;\n",
    "    }\n",
    "\n",
    "    public override string GetInfo()\n",
    "    {\n",
    "        return base.GetInfo() + $\", Компания: {Company}\";\n",
    "    }\n",
    "\n",
    "    // Метод оплаты с уведомлением Premium карты\n",
    "    public void PayAndNotify(PremiumCreditCard premiumCard)\n",
    "    {\n",
    "        Pay();\n",
    "        premiumCard.NotifyAssistant($\"Произведена оплата с корпоративной карты {Company}.\");\n",
    "    }\n",
    "}\n",
    "// Создание экземпляров с помощью конструкторов\n",
    "var gold1 = new GoldCreditCard(\"1111 2222 3333 4444\", \"Иван Иванов\", DateTime.Now.AddYears(2), 1500);\n",
    "var gold2 = new GoldCreditCard(\"4444 5555 6666 7777\", \"Сергей Петров\", DateTime.Now.AddYears(1), 300);\n",
    "\n",
    "var premium = new PremiumCreditCard(\"5555 6666 7777 8888\", \"Мария Смирнова\", DateTime.Now.AddYears(3), \"Анна\");\n",
    "\n",
    "var corp = new CorporateCreditCard(\"9999 0000 1111 2222\", \"ООО Техно\", DateTime.Now.AddYears(1), \"TechCorp\");\n",
    "\n",
    "// Демонстрация полиморфного поведения и взаимодействия\n",
    "\n",
    "Console.WriteLine(gold1.GetInfo());\n",
    "Console.WriteLine(premium.GetInfo());\n",
    "Console.WriteLine(corp.GetInfo());\n",
    "\n",
    "\n",
    "gold1.Pay();\n",
    "corp.PayAndNotify(premium);\n",
    "\n",
    "\n",
    "gold1.TransferMilesTo(gold2, 500);\n",
    "\n",
    "Console.WriteLine($\"\\nМили {gold1.HolderName}: {gold1.BonusMiles}\");\n",
    "Console.WriteLine($\"Мили {gold2.HolderName}: {gold2.BonusMiles}\");\n"
   ]
  }
 ],
 "metadata": {
  "kernelspec": {
   "display_name": ".NET (C#)",
   "language": "C#",
   "name": ".net-csharp"
  },
  "polyglot_notebook": {
   "kernelInfo": {
    "defaultKernelName": "csharp",
    "items": [
     {
      "aliases": [],
      "languageName": "csharp",
      "name": "csharp"
     }
    ]
   }
  }
 },
 "nbformat": 4,
 "nbformat_minor": 2
}
